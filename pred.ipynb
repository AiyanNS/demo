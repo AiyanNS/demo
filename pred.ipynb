{
 "cells": [
  {
   "cell_type": "markdown",
   "metadata": {},
   "source": [
    "# Modelo para App"
   ]
  },
  {
   "cell_type": "markdown",
   "metadata": {},
   "source": [
    "Librerías y extracción de datos"
   ]
  },
  {
   "cell_type": "code",
   "execution_count": 12,
   "metadata": {},
   "outputs": [],
   "source": [
    "import pandas as pd\n",
    "import numpy as np\n",
    "\n",
    "from sklearn.model_selection import TimeSeriesSplit, cross_val_score\n",
    "from sklearn.preprocessing import StandardScaler\n",
    "from sklearn.pipeline import Pipeline\n",
    "from sklearn.metrics import mean_absolute_error\n",
    "import matplotlib.pyplot as plt\n",
    "from sklearn.model_selection import train_test_split\n",
    "import tensorflow as tf\n",
    "from tensorflow.keras.models import Sequential\n",
    "from tensorflow.keras.layers import LSTM, Dense,Dropout\n",
    "from tensorflow.keras.utils import plot_model\n",
    "from tensorflow.keras.optimizers import Adam\n",
    "\n",
    "import pickle\n",
    "\n",
    "import shap\n",
    "import xgboost as xgb\n",
    "import seaborn as sns\n",
    "import joblib\n"
   ]
  },
  {
   "cell_type": "code",
   "execution_count": 2,
   "metadata": {},
   "outputs": [],
   "source": [
    "# DF\n",
    "data = pd.read_csv('dataframe_con_info_adicional.csv')\n",
    "\n",
    "# 'hora_llegada' in datetime format\n",
    "data['hora_llegada'] = pd.to_datetime(data['hora_llegada'])\n",
    "\n",
    "# adding 'hora_llegada' to 'dia_semana'\n",
    "data['dia_semana'] = data['hora_llegada'].dt.dayofweek\n",
    "\n",
    "# features and target\n",
    "features = ['nivel_trafico', 'clima', 'accidente', 'es_hora_punta', 'dia_del_ano', 'distancia', 'es_festivo', 'dia_semana']\n",
    "target = 'retraso'\n",
    "\n",
    "X = data[features]\n",
    "y = data[target]\n",
    "\n",
    "# Train/test split\n",
    "X_train, X_test, y_train, y_test = train_test_split(X, y, test_size=0.2, shuffle=False)\n",
    "\n",
    "#  Data scalar\n",
    "scaler = StandardScaler()\n",
    "X_train_scaled = scaler.fit_transform(X_train)\n",
    "X_test_scaled = scaler.transform(X_test)\n",
    "#X_train_scaled=X_train\n",
    "#X_test_scaled=X_test"
   ]
  },
  {
   "cell_type": "code",
   "execution_count": 3,
   "metadata": {},
   "outputs": [
    {
     "data": {
      "text/html": [
       "<div>\n",
       "<style scoped>\n",
       "    .dataframe tbody tr th:only-of-type {\n",
       "        vertical-align: middle;\n",
       "    }\n",
       "\n",
       "    .dataframe tbody tr th {\n",
       "        vertical-align: top;\n",
       "    }\n",
       "\n",
       "    .dataframe thead th {\n",
       "        text-align: right;\n",
       "    }\n",
       "</style>\n",
       "<table border=\"1\" class=\"dataframe\">\n",
       "  <thead>\n",
       "    <tr style=\"text-align: right;\">\n",
       "      <th></th>\n",
       "      <th>bus_id</th>\n",
       "      <th>nivel_trafico</th>\n",
       "      <th>clima</th>\n",
       "      <th>accidente</th>\n",
       "      <th>hora_llegada</th>\n",
       "      <th>es_hora_punta</th>\n",
       "      <th>dia_del_ano</th>\n",
       "      <th>distancia</th>\n",
       "      <th>es_festivo</th>\n",
       "      <th>dia_de_la_semana</th>\n",
       "      <th>retraso</th>\n",
       "      <th>dia_semana</th>\n",
       "    </tr>\n",
       "  </thead>\n",
       "  <tbody>\n",
       "    <tr>\n",
       "      <th>157249</th>\n",
       "      <td>2</td>\n",
       "      <td>0</td>\n",
       "      <td>0</td>\n",
       "      <td>0</td>\n",
       "      <td>2023-12-31</td>\n",
       "      <td>False</td>\n",
       "      <td>365</td>\n",
       "      <td>311.496610</td>\n",
       "      <td>False</td>\n",
       "      <td>6</td>\n",
       "      <td>1</td>\n",
       "      <td>6</td>\n",
       "    </tr>\n",
       "    <tr>\n",
       "      <th>157250</th>\n",
       "      <td>3</td>\n",
       "      <td>0</td>\n",
       "      <td>1</td>\n",
       "      <td>0</td>\n",
       "      <td>2023-12-31</td>\n",
       "      <td>False</td>\n",
       "      <td>365</td>\n",
       "      <td>391.855599</td>\n",
       "      <td>False</td>\n",
       "      <td>6</td>\n",
       "      <td>3</td>\n",
       "      <td>6</td>\n",
       "    </tr>\n",
       "    <tr>\n",
       "      <th>157251</th>\n",
       "      <td>4</td>\n",
       "      <td>0</td>\n",
       "      <td>0</td>\n",
       "      <td>0</td>\n",
       "      <td>2023-12-31</td>\n",
       "      <td>False</td>\n",
       "      <td>365</td>\n",
       "      <td>103.352199</td>\n",
       "      <td>False</td>\n",
       "      <td>6</td>\n",
       "      <td>1</td>\n",
       "      <td>6</td>\n",
       "    </tr>\n",
       "    <tr>\n",
       "      <th>157252</th>\n",
       "      <td>5</td>\n",
       "      <td>0</td>\n",
       "      <td>0</td>\n",
       "      <td>0</td>\n",
       "      <td>2023-12-31</td>\n",
       "      <td>False</td>\n",
       "      <td>365</td>\n",
       "      <td>238.102511</td>\n",
       "      <td>False</td>\n",
       "      <td>6</td>\n",
       "      <td>1</td>\n",
       "      <td>6</td>\n",
       "    </tr>\n",
       "    <tr>\n",
       "      <th>157253</th>\n",
       "      <td>6</td>\n",
       "      <td>0</td>\n",
       "      <td>0</td>\n",
       "      <td>0</td>\n",
       "      <td>2023-12-31</td>\n",
       "      <td>False</td>\n",
       "      <td>365</td>\n",
       "      <td>403.207173</td>\n",
       "      <td>False</td>\n",
       "      <td>6</td>\n",
       "      <td>1</td>\n",
       "      <td>6</td>\n",
       "    </tr>\n",
       "  </tbody>\n",
       "</table>\n",
       "</div>"
      ],
      "text/plain": [
       "        bus_id  nivel_trafico  clima  accidente hora_llegada  es_hora_punta  \\\n",
       "157249       2              0      0          0   2023-12-31          False   \n",
       "157250       3              0      1          0   2023-12-31          False   \n",
       "157251       4              0      0          0   2023-12-31          False   \n",
       "157252       5              0      0          0   2023-12-31          False   \n",
       "157253       6              0      0          0   2023-12-31          False   \n",
       "\n",
       "        dia_del_ano   distancia  es_festivo  dia_de_la_semana  retraso  \\\n",
       "157249          365  311.496610       False                 6        1   \n",
       "157250          365  391.855599       False                 6        3   \n",
       "157251          365  103.352199       False                 6        1   \n",
       "157252          365  238.102511       False                 6        1   \n",
       "157253          365  403.207173       False                 6        1   \n",
       "\n",
       "        dia_semana  \n",
       "157249           6  \n",
       "157250           6  \n",
       "157251           6  \n",
       "157252           6  \n",
       "157253           6  "
      ]
     },
     "execution_count": 3,
     "metadata": {},
     "output_type": "execute_result"
    }
   ],
   "source": [
    "data.tail()"
   ]
  },
  {
   "cell_type": "markdown",
   "metadata": {},
   "source": [
    "El dataframe está compuesto por:\n",
    "* Bus_id: id del bus\n",
    "* Nivel del tráfico: 0 ninguno, 1 poco, 2 mucho\n",
    "* Clima: 0 despejado, 1 malo, 2 terrible\n",
    "* Hora con día de llegada (no sirve para nada, es mas para ordenar los valores generados)\n",
    "* es_hora_punta: si es hora punta o no, si lo es aumenta el retraso\n",
    "* dia_del_ano: como la hora de llegada, para ordenar los datos cuando se generan\n",
    "* es_festivo: si lo es reduce el tráfico\n",
    "* dia_de_la_semana: ortientativo, no sirve para nada\n",
    "* retraso: retraso en minutos producido\n",
    "* dia_semana: si es sabado o domingo no aumenta el tráfico, si es un lunes o viernes lo hace\n"
   ]
  },
  {
   "cell_type": "markdown",
   "metadata": {},
   "source": [
    "## Modelo LSTM"
   ]
  },
  {
   "cell_type": "code",
   "execution_count": 13,
   "metadata": {},
   "outputs": [
    {
     "name": "stdout",
     "output_type": "stream",
     "text": [
      "WARNING:tensorflow:Layer lstm_4 will not use cuDNN kernels since it doesn't meet the criteria. It will use a generic GPU kernel as fallback when running on GPU.\n",
      "WARNING:tensorflow:Layer lstm_5 will not use cuDNN kernels since it doesn't meet the criteria. It will use a generic GPU kernel as fallback when running on GPU.\n",
      "WARNING:tensorflow:Layer lstm_6 will not use cuDNN kernels since it doesn't meet the criteria. It will use a generic GPU kernel as fallback when running on GPU.\n",
      "Epoch 1/20\n",
      "114/114 [==============================] - 21s 149ms/step - loss: 25.3216 - val_loss: 21.4683\n",
      "Epoch 2/20\n",
      "114/114 [==============================] - 16s 144ms/step - loss: 22.3002 - val_loss: 20.9928\n",
      "Epoch 3/20\n",
      "114/114 [==============================] - 17s 144ms/step - loss: 22.2957 - val_loss: 20.7061\n",
      "Epoch 4/20\n",
      "114/114 [==============================] - 18s 155ms/step - loss: 21.5634 - val_loss: 20.5388\n",
      "Epoch 5/20\n",
      "114/114 [==============================] - 17s 152ms/step - loss: 21.4666 - val_loss: 20.5514\n",
      "Epoch 6/20\n",
      "114/114 [==============================] - 18s 159ms/step - loss: 21.3453 - val_loss: 20.4860\n",
      "Epoch 7/20\n",
      "114/114 [==============================] - 18s 158ms/step - loss: 21.2985 - val_loss: 20.4835\n",
      "Epoch 8/20\n",
      "114/114 [==============================] - 19s 164ms/step - loss: 21.2681 - val_loss: 20.4613\n",
      "Epoch 9/20\n",
      "114/114 [==============================] - 18s 161ms/step - loss: 21.2535 - val_loss: 20.5286\n",
      "Epoch 10/20\n",
      "114/114 [==============================] - 18s 160ms/step - loss: 21.2053 - val_loss: 20.4464\n",
      "Epoch 11/20\n",
      "114/114 [==============================] - 18s 161ms/step - loss: 21.2119 - val_loss: 20.4459\n",
      "Epoch 12/20\n",
      "114/114 [==============================] - 18s 160ms/step - loss: 21.1553 - val_loss: 20.4451\n",
      "Epoch 13/20\n",
      "114/114 [==============================] - 17s 153ms/step - loss: 21.1912 - val_loss: 20.4602\n",
      "Epoch 14/20\n",
      "114/114 [==============================] - 19s 163ms/step - loss: 21.1681 - val_loss: 20.4327\n",
      "Epoch 15/20\n",
      "114/114 [==============================] - 21s 185ms/step - loss: 21.1464 - val_loss: 20.4347\n",
      "Epoch 16/20\n",
      "114/114 [==============================] - 20s 176ms/step - loss: 21.1382 - val_loss: 20.4399\n",
      "Epoch 17/20\n",
      "114/114 [==============================] - 18s 161ms/step - loss: 21.1042 - val_loss: 20.4445\n",
      "Epoch 18/20\n",
      "114/114 [==============================] - 18s 157ms/step - loss: 21.1020 - val_loss: 20.4475\n",
      "Epoch 19/20\n",
      "114/114 [==============================] - 16s 143ms/step - loss: 21.1145 - val_loss: 20.4357\n",
      "Epoch 20/20\n",
      "114/114 [==============================] - 16s 139ms/step - loss: 21.1135 - val_loss: 20.4387\n",
      "983/983 [==============================] - 17s 16ms/step\n",
      "MAE en el conjunto de prueba: 2.8911435307105426\n"
     ]
    }
   ],
   "source": [
    "# Convertir los datos a secuencias para el modelo LSTM\n",
    "def to_sequences(X, y, time_steps=1):\n",
    "    Xs, ys = [], []\n",
    "    for i in range(len(X) - time_steps):\n",
    "        v = X[i:(i + time_steps)]\n",
    "        Xs.append(v)\n",
    "        ys.append(y.iloc[i + time_steps])\n",
    "    return np.array(Xs), np.array(ys)\n",
    "\n",
    "time_steps = 10  # Ajusta según la longitud de la secuencia deseada\n",
    "X_train_seq, y_train_seq = to_sequences(X_train_scaled, y_train, time_steps)\n",
    "X_test_seq, y_test_seq = to_sequences(X_test_scaled, y_test, time_steps)\n",
    "\n",
    "# Crear el modelo LSTM\n",
    "model = Sequential()\n",
    "model.add(LSTM(units=100, activation='relu', return_sequences=True, input_shape=(X_train_seq.shape[1], X_train_seq.shape[2])))\n",
    "model.add(Dropout(0.2))\n",
    "\n",
    "model.add(LSTM(units=100, activation='relu', return_sequences=True))\n",
    "model.add(Dropout(0.2))\n",
    "\n",
    "model.add(LSTM(units=50, activation='relu'))\n",
    "model.add(Dropout(0.2))\n",
    "\n",
    "model.add(Dense(units=1))\n",
    "\n",
    "model.compile(optimizer=Adam(learning_rate=0.001), loss='mse')\n",
    "\n",
    "with tf.device('/device:GPU:0'):\n",
    "    # Entrenar el modelo\n",
    "    try:\n",
    "        model.load_weights('model_weights_LSTM.h5')\n",
    "        with open('history_LSTM.pkl', 'rb') as file:\n",
    "            history = pickle.load(file)\n",
    "    except (OSError, FileNotFoundError):\n",
    "        # Si no se encuentran los archivos, entrena el modelo y guarda los pesos e historial\n",
    "        history = model.fit(X_train_seq, y_train_seq, epochs=20, batch_size=1000, validation_split=0.1, verbose=1)\n",
    "        model.save_weights('model_weights.h5')\n",
    "        with open('history_LSTM.pkl', 'wb') as file:\n",
    "            pickle.dump(history.history if hasattr(history, 'history') else history, file)\n",
    "\n",
    "# Realizar predicciones en el conjunto de prueba\n",
    "y_pred = model.predict(X_test_seq)\n",
    "\n",
    "# Calcular el error absoluto medio en las predicciones\n",
    "mae = mean_absolute_error(y_test_seq, y_pred)\n",
    "print(f'MAE en el conjunto de prueba: {mae}')"
   ]
  },
  {
   "cell_type": "code",
   "execution_count": 6,
   "metadata": {},
   "outputs": [
    {
     "ename": "InvalidArgumentError",
     "evalue": "Graph execution error:\n\nDetected at node 'sequential/lstm/transpose' defined at (most recent call last):\n    File \"c:\\Users\\IU\\anaconda3\\envs\\tensorflowgpu\\lib\\runpy.py\", line 196, in _run_module_as_main\n      return _run_code(code, main_globals, None,\n    File \"c:\\Users\\IU\\anaconda3\\envs\\tensorflowgpu\\lib\\runpy.py\", line 86, in _run_code\n      exec(code, run_globals)\n    File \"c:\\Users\\IU\\anaconda3\\envs\\tensorflowgpu\\lib\\site-packages\\ipykernel_launcher.py\", line 17, in <module>\n      app.launch_new_instance()\n    File \"c:\\Users\\IU\\anaconda3\\envs\\tensorflowgpu\\lib\\site-packages\\traitlets\\config\\application.py\", line 1053, in launch_instance\n      app.start()\n    File \"c:\\Users\\IU\\anaconda3\\envs\\tensorflowgpu\\lib\\site-packages\\ipykernel\\kernelapp.py\", line 737, in start\n      self.io_loop.start()\n    File \"c:\\Users\\IU\\anaconda3\\envs\\tensorflowgpu\\lib\\site-packages\\tornado\\platform\\asyncio.py\", line 215, in start\n      self.asyncio_loop.run_forever()\n    File \"c:\\Users\\IU\\anaconda3\\envs\\tensorflowgpu\\lib\\asyncio\\base_events.py\", line 603, in run_forever\n      self._run_once()\n    File \"c:\\Users\\IU\\anaconda3\\envs\\tensorflowgpu\\lib\\asyncio\\base_events.py\", line 1909, in _run_once\n      handle._run()\n    File \"c:\\Users\\IU\\anaconda3\\envs\\tensorflowgpu\\lib\\asyncio\\events.py\", line 80, in _run\n      self._context.run(self._callback, *self._args)\n    File \"c:\\Users\\IU\\anaconda3\\envs\\tensorflowgpu\\lib\\site-packages\\ipykernel\\kernelbase.py\", line 524, in dispatch_queue\n      await self.process_one()\n    File \"c:\\Users\\IU\\anaconda3\\envs\\tensorflowgpu\\lib\\site-packages\\ipykernel\\kernelbase.py\", line 513, in process_one\n      await dispatch(*args)\n    File \"c:\\Users\\IU\\anaconda3\\envs\\tensorflowgpu\\lib\\site-packages\\ipykernel\\kernelbase.py\", line 418, in dispatch_shell\n      await result\n    File \"c:\\Users\\IU\\anaconda3\\envs\\tensorflowgpu\\lib\\site-packages\\ipykernel\\kernelbase.py\", line 758, in execute_request\n      reply_content = await reply_content\n    File \"c:\\Users\\IU\\anaconda3\\envs\\tensorflowgpu\\lib\\site-packages\\ipykernel\\ipkernel.py\", line 426, in do_execute\n      res = shell.run_cell(\n    File \"c:\\Users\\IU\\anaconda3\\envs\\tensorflowgpu\\lib\\site-packages\\ipykernel\\zmqshell.py\", line 549, in run_cell\n      return super().run_cell(*args, **kwargs)\n    File \"c:\\Users\\IU\\anaconda3\\envs\\tensorflowgpu\\lib\\site-packages\\IPython\\core\\interactiveshell.py\", line 3046, in run_cell\n      result = self._run_cell(\n    File \"c:\\Users\\IU\\anaconda3\\envs\\tensorflowgpu\\lib\\site-packages\\IPython\\core\\interactiveshell.py\", line 3101, in _run_cell\n      result = runner(coro)\n    File \"c:\\Users\\IU\\anaconda3\\envs\\tensorflowgpu\\lib\\site-packages\\IPython\\core\\async_helpers.py\", line 129, in _pseudo_sync_runner\n      coro.send(None)\n    File \"c:\\Users\\IU\\anaconda3\\envs\\tensorflowgpu\\lib\\site-packages\\IPython\\core\\interactiveshell.py\", line 3306, in run_cell_async\n      has_raised = await self.run_ast_nodes(code_ast.body, cell_name,\n    File \"c:\\Users\\IU\\anaconda3\\envs\\tensorflowgpu\\lib\\site-packages\\IPython\\core\\interactiveshell.py\", line 3488, in run_ast_nodes\n      if await self.run_code(code, result, async_=asy):\n    File \"c:\\Users\\IU\\anaconda3\\envs\\tensorflowgpu\\lib\\site-packages\\IPython\\core\\interactiveshell.py\", line 3548, in run_code\n      exec(code_obj, self.user_global_ns, self.user_ns)\n    File \"C:\\Users\\IU\\AppData\\Local\\Temp\\ipykernel_8236\\3615335812.py\", line 2, in <module>\n      loss, accuracy = model.evaluate(X_test_scaled, y_test)\n    File \"c:\\Users\\IU\\anaconda3\\envs\\tensorflowgpu\\lib\\site-packages\\keras\\utils\\traceback_utils.py\", line 65, in error_handler\n      return fn(*args, **kwargs)\n    File \"c:\\Users\\IU\\anaconda3\\envs\\tensorflowgpu\\lib\\site-packages\\keras\\engine\\training.py\", line 1947, in evaluate\n      tmp_logs = self.test_function(iterator)\n    File \"c:\\Users\\IU\\anaconda3\\envs\\tensorflowgpu\\lib\\site-packages\\keras\\engine\\training.py\", line 1727, in test_function\n      return step_function(self, iterator)\n    File \"c:\\Users\\IU\\anaconda3\\envs\\tensorflowgpu\\lib\\site-packages\\keras\\engine\\training.py\", line 1713, in step_function\n      outputs = model.distribute_strategy.run(run_step, args=(data,))\n    File \"c:\\Users\\IU\\anaconda3\\envs\\tensorflowgpu\\lib\\site-packages\\keras\\engine\\training.py\", line 1701, in run_step\n      outputs = model.test_step(data)\n    File \"c:\\Users\\IU\\anaconda3\\envs\\tensorflowgpu\\lib\\site-packages\\keras\\engine\\training.py\", line 1665, in test_step\n      y_pred = self(x, training=False)\n    File \"c:\\Users\\IU\\anaconda3\\envs\\tensorflowgpu\\lib\\site-packages\\keras\\utils\\traceback_utils.py\", line 65, in error_handler\n      return fn(*args, **kwargs)\n    File \"c:\\Users\\IU\\anaconda3\\envs\\tensorflowgpu\\lib\\site-packages\\keras\\engine\\training.py\", line 557, in __call__\n      return super().__call__(*args, **kwargs)\n    File \"c:\\Users\\IU\\anaconda3\\envs\\tensorflowgpu\\lib\\site-packages\\keras\\utils\\traceback_utils.py\", line 65, in error_handler\n      return fn(*args, **kwargs)\n    File \"c:\\Users\\IU\\anaconda3\\envs\\tensorflowgpu\\lib\\site-packages\\keras\\engine\\base_layer.py\", line 1097, in __call__\n      outputs = call_fn(inputs, *args, **kwargs)\n    File \"c:\\Users\\IU\\anaconda3\\envs\\tensorflowgpu\\lib\\site-packages\\keras\\utils\\traceback_utils.py\", line 96, in error_handler\n      return fn(*args, **kwargs)\n    File \"c:\\Users\\IU\\anaconda3\\envs\\tensorflowgpu\\lib\\site-packages\\keras\\engine\\sequential.py\", line 410, in call\n      return super().call(inputs, training=training, mask=mask)\n    File \"c:\\Users\\IU\\anaconda3\\envs\\tensorflowgpu\\lib\\site-packages\\keras\\engine\\functional.py\", line 510, in call\n      return self._run_internal_graph(inputs, training=training, mask=mask)\n    File \"c:\\Users\\IU\\anaconda3\\envs\\tensorflowgpu\\lib\\site-packages\\keras\\engine\\functional.py\", line 667, in _run_internal_graph\n      outputs = node.layer(*args, **kwargs)\n    File \"c:\\Users\\IU\\anaconda3\\envs\\tensorflowgpu\\lib\\site-packages\\keras\\layers\\rnn\\base_rnn.py\", line 553, in __call__\n      return super().__call__(inputs, **kwargs)\n    File \"c:\\Users\\IU\\anaconda3\\envs\\tensorflowgpu\\lib\\site-packages\\keras\\utils\\traceback_utils.py\", line 65, in error_handler\n      return fn(*args, **kwargs)\n    File \"c:\\Users\\IU\\anaconda3\\envs\\tensorflowgpu\\lib\\site-packages\\keras\\engine\\base_layer.py\", line 1097, in __call__\n      outputs = call_fn(inputs, *args, **kwargs)\n    File \"c:\\Users\\IU\\anaconda3\\envs\\tensorflowgpu\\lib\\site-packages\\keras\\utils\\traceback_utils.py\", line 96, in error_handler\n      return fn(*args, **kwargs)\n    File \"c:\\Users\\IU\\anaconda3\\envs\\tensorflowgpu\\lib\\site-packages\\keras\\layers\\rnn\\lstm.py\", line 625, in call\n      last_output, outputs, states = backend.rnn(\n    File \"c:\\Users\\IU\\anaconda3\\envs\\tensorflowgpu\\lib\\site-packages\\keras\\backend.py\", line 4783, in rnn\n      inputs = tf.nest.map_structure(swap_batch_timestep, inputs)\n    File \"c:\\Users\\IU\\anaconda3\\envs\\tensorflowgpu\\lib\\site-packages\\keras\\backend.py\", line 4780, in swap_batch_timestep\n      return tf.compat.v1.transpose(input_t, axes)\nNode: 'sequential/lstm/transpose'\nDetected at node 'sequential/lstm/transpose' defined at (most recent call last):\n    File \"c:\\Users\\IU\\anaconda3\\envs\\tensorflowgpu\\lib\\runpy.py\", line 196, in _run_module_as_main\n      return _run_code(code, main_globals, None,\n    File \"c:\\Users\\IU\\anaconda3\\envs\\tensorflowgpu\\lib\\runpy.py\", line 86, in _run_code\n      exec(code, run_globals)\n    File \"c:\\Users\\IU\\anaconda3\\envs\\tensorflowgpu\\lib\\site-packages\\ipykernel_launcher.py\", line 17, in <module>\n      app.launch_new_instance()\n    File \"c:\\Users\\IU\\anaconda3\\envs\\tensorflowgpu\\lib\\site-packages\\traitlets\\config\\application.py\", line 1053, in launch_instance\n      app.start()\n    File \"c:\\Users\\IU\\anaconda3\\envs\\tensorflowgpu\\lib\\site-packages\\ipykernel\\kernelapp.py\", line 737, in start\n      self.io_loop.start()\n    File \"c:\\Users\\IU\\anaconda3\\envs\\tensorflowgpu\\lib\\site-packages\\tornado\\platform\\asyncio.py\", line 215, in start\n      self.asyncio_loop.run_forever()\n    File \"c:\\Users\\IU\\anaconda3\\envs\\tensorflowgpu\\lib\\asyncio\\base_events.py\", line 603, in run_forever\n      self._run_once()\n    File \"c:\\Users\\IU\\anaconda3\\envs\\tensorflowgpu\\lib\\asyncio\\base_events.py\", line 1909, in _run_once\n      handle._run()\n    File \"c:\\Users\\IU\\anaconda3\\envs\\tensorflowgpu\\lib\\asyncio\\events.py\", line 80, in _run\n      self._context.run(self._callback, *self._args)\n    File \"c:\\Users\\IU\\anaconda3\\envs\\tensorflowgpu\\lib\\site-packages\\ipykernel\\kernelbase.py\", line 524, in dispatch_queue\n      await self.process_one()\n    File \"c:\\Users\\IU\\anaconda3\\envs\\tensorflowgpu\\lib\\site-packages\\ipykernel\\kernelbase.py\", line 513, in process_one\n      await dispatch(*args)\n    File \"c:\\Users\\IU\\anaconda3\\envs\\tensorflowgpu\\lib\\site-packages\\ipykernel\\kernelbase.py\", line 418, in dispatch_shell\n      await result\n    File \"c:\\Users\\IU\\anaconda3\\envs\\tensorflowgpu\\lib\\site-packages\\ipykernel\\kernelbase.py\", line 758, in execute_request\n      reply_content = await reply_content\n    File \"c:\\Users\\IU\\anaconda3\\envs\\tensorflowgpu\\lib\\site-packages\\ipykernel\\ipkernel.py\", line 426, in do_execute\n      res = shell.run_cell(\n    File \"c:\\Users\\IU\\anaconda3\\envs\\tensorflowgpu\\lib\\site-packages\\ipykernel\\zmqshell.py\", line 549, in run_cell\n      return super().run_cell(*args, **kwargs)\n    File \"c:\\Users\\IU\\anaconda3\\envs\\tensorflowgpu\\lib\\site-packages\\IPython\\core\\interactiveshell.py\", line 3046, in run_cell\n      result = self._run_cell(\n    File \"c:\\Users\\IU\\anaconda3\\envs\\tensorflowgpu\\lib\\site-packages\\IPython\\core\\interactiveshell.py\", line 3101, in _run_cell\n      result = runner(coro)\n    File \"c:\\Users\\IU\\anaconda3\\envs\\tensorflowgpu\\lib\\site-packages\\IPython\\core\\async_helpers.py\", line 129, in _pseudo_sync_runner\n      coro.send(None)\n    File \"c:\\Users\\IU\\anaconda3\\envs\\tensorflowgpu\\lib\\site-packages\\IPython\\core\\interactiveshell.py\", line 3306, in run_cell_async\n      has_raised = await self.run_ast_nodes(code_ast.body, cell_name,\n    File \"c:\\Users\\IU\\anaconda3\\envs\\tensorflowgpu\\lib\\site-packages\\IPython\\core\\interactiveshell.py\", line 3488, in run_ast_nodes\n      if await self.run_code(code, result, async_=asy):\n    File \"c:\\Users\\IU\\anaconda3\\envs\\tensorflowgpu\\lib\\site-packages\\IPython\\core\\interactiveshell.py\", line 3548, in run_code\n      exec(code_obj, self.user_global_ns, self.user_ns)\n    File \"C:\\Users\\IU\\AppData\\Local\\Temp\\ipykernel_8236\\3615335812.py\", line 2, in <module>\n      loss, accuracy = model.evaluate(X_test_scaled, y_test)\n    File \"c:\\Users\\IU\\anaconda3\\envs\\tensorflowgpu\\lib\\site-packages\\keras\\utils\\traceback_utils.py\", line 65, in error_handler\n      return fn(*args, **kwargs)\n    File \"c:\\Users\\IU\\anaconda3\\envs\\tensorflowgpu\\lib\\site-packages\\keras\\engine\\training.py\", line 1947, in evaluate\n      tmp_logs = self.test_function(iterator)\n    File \"c:\\Users\\IU\\anaconda3\\envs\\tensorflowgpu\\lib\\site-packages\\keras\\engine\\training.py\", line 1727, in test_function\n      return step_function(self, iterator)\n    File \"c:\\Users\\IU\\anaconda3\\envs\\tensorflowgpu\\lib\\site-packages\\keras\\engine\\training.py\", line 1713, in step_function\n      outputs = model.distribute_strategy.run(run_step, args=(data,))\n    File \"c:\\Users\\IU\\anaconda3\\envs\\tensorflowgpu\\lib\\site-packages\\keras\\engine\\training.py\", line 1701, in run_step\n      outputs = model.test_step(data)\n    File \"c:\\Users\\IU\\anaconda3\\envs\\tensorflowgpu\\lib\\site-packages\\keras\\engine\\training.py\", line 1665, in test_step\n      y_pred = self(x, training=False)\n    File \"c:\\Users\\IU\\anaconda3\\envs\\tensorflowgpu\\lib\\site-packages\\keras\\utils\\traceback_utils.py\", line 65, in error_handler\n      return fn(*args, **kwargs)\n    File \"c:\\Users\\IU\\anaconda3\\envs\\tensorflowgpu\\lib\\site-packages\\keras\\engine\\training.py\", line 557, in __call__\n      return super().__call__(*args, **kwargs)\n    File \"c:\\Users\\IU\\anaconda3\\envs\\tensorflowgpu\\lib\\site-packages\\keras\\utils\\traceback_utils.py\", line 65, in error_handler\n      return fn(*args, **kwargs)\n    File \"c:\\Users\\IU\\anaconda3\\envs\\tensorflowgpu\\lib\\site-packages\\keras\\engine\\base_layer.py\", line 1097, in __call__\n      outputs = call_fn(inputs, *args, **kwargs)\n    File \"c:\\Users\\IU\\anaconda3\\envs\\tensorflowgpu\\lib\\site-packages\\keras\\utils\\traceback_utils.py\", line 96, in error_handler\n      return fn(*args, **kwargs)\n    File \"c:\\Users\\IU\\anaconda3\\envs\\tensorflowgpu\\lib\\site-packages\\keras\\engine\\sequential.py\", line 410, in call\n      return super().call(inputs, training=training, mask=mask)\n    File \"c:\\Users\\IU\\anaconda3\\envs\\tensorflowgpu\\lib\\site-packages\\keras\\engine\\functional.py\", line 510, in call\n      return self._run_internal_graph(inputs, training=training, mask=mask)\n    File \"c:\\Users\\IU\\anaconda3\\envs\\tensorflowgpu\\lib\\site-packages\\keras\\engine\\functional.py\", line 667, in _run_internal_graph\n      outputs = node.layer(*args, **kwargs)\n    File \"c:\\Users\\IU\\anaconda3\\envs\\tensorflowgpu\\lib\\site-packages\\keras\\layers\\rnn\\base_rnn.py\", line 553, in __call__\n      return super().__call__(inputs, **kwargs)\n    File \"c:\\Users\\IU\\anaconda3\\envs\\tensorflowgpu\\lib\\site-packages\\keras\\utils\\traceback_utils.py\", line 65, in error_handler\n      return fn(*args, **kwargs)\n    File \"c:\\Users\\IU\\anaconda3\\envs\\tensorflowgpu\\lib\\site-packages\\keras\\engine\\base_layer.py\", line 1097, in __call__\n      outputs = call_fn(inputs, *args, **kwargs)\n    File \"c:\\Users\\IU\\anaconda3\\envs\\tensorflowgpu\\lib\\site-packages\\keras\\utils\\traceback_utils.py\", line 96, in error_handler\n      return fn(*args, **kwargs)\n    File \"c:\\Users\\IU\\anaconda3\\envs\\tensorflowgpu\\lib\\site-packages\\keras\\layers\\rnn\\lstm.py\", line 625, in call\n      last_output, outputs, states = backend.rnn(\n    File \"c:\\Users\\IU\\anaconda3\\envs\\tensorflowgpu\\lib\\site-packages\\keras\\backend.py\", line 4783, in rnn\n      inputs = tf.nest.map_structure(swap_batch_timestep, inputs)\n    File \"c:\\Users\\IU\\anaconda3\\envs\\tensorflowgpu\\lib\\site-packages\\keras\\backend.py\", line 4780, in swap_batch_timestep\n      return tf.compat.v1.transpose(input_t, axes)\nNode: 'sequential/lstm/transpose'\n2 root error(s) found.\n  (0) INVALID_ARGUMENT:  transpose expects a vector of size 2. But input(1) is a vector of size 3\n\t [[{{node sequential/lstm/transpose}}]]\n\t [[mean_squared_error/cond/then/_48/mean_squared_error/cond/cond/then/_111/mean_squared_error/cond/cond/remove_squeezable_dimensions/cond_1/pivot_f/_176/_63]]\n  (1) INVALID_ARGUMENT:  transpose expects a vector of size 2. But input(1) is a vector of size 3\n\t [[{{node sequential/lstm/transpose}}]]\n0 successful operations.\n0 derived errors ignored. [Op:__inference_test_function_18432]",
     "output_type": "error",
     "traceback": [
      "\u001b[1;31m---------------------------------------------------------------------------\u001b[0m",
      "\u001b[1;31mInvalidArgumentError\u001b[0m                      Traceback (most recent call last)",
      "Cell \u001b[1;32mIn[6], line 2\u001b[0m\n\u001b[0;32m      1\u001b[0m \u001b[38;5;66;03m# Evaluate the model on the test set\u001b[39;00m\n\u001b[1;32m----> 2\u001b[0m loss, accuracy \u001b[38;5;241m=\u001b[39m \u001b[43mmodel\u001b[49m\u001b[38;5;241;43m.\u001b[39;49m\u001b[43mevaluate\u001b[49m\u001b[43m(\u001b[49m\u001b[43mX_test_scaled\u001b[49m\u001b[43m,\u001b[49m\u001b[43m \u001b[49m\u001b[43my_test\u001b[49m\u001b[43m)\u001b[49m\n\u001b[0;32m      4\u001b[0m \u001b[38;5;28mprint\u001b[39m(\u001b[38;5;124mf\u001b[39m\u001b[38;5;124m'\u001b[39m\u001b[38;5;124mTest loss: \u001b[39m\u001b[38;5;132;01m{\u001b[39;00mloss\u001b[38;5;132;01m:\u001b[39;00m\u001b[38;5;124m.4f\u001b[39m\u001b[38;5;132;01m}\u001b[39;00m\u001b[38;5;124m'\u001b[39m)\n\u001b[0;32m      5\u001b[0m \u001b[38;5;28mprint\u001b[39m(\u001b[38;5;124mf\u001b[39m\u001b[38;5;124m'\u001b[39m\u001b[38;5;124mTest accuracy: \u001b[39m\u001b[38;5;132;01m{\u001b[39;00maccuracy\u001b[38;5;132;01m:\u001b[39;00m\u001b[38;5;124m.4f\u001b[39m\u001b[38;5;132;01m}\u001b[39;00m\u001b[38;5;124m'\u001b[39m)\n",
      "File \u001b[1;32mc:\\Users\\IU\\anaconda3\\envs\\tensorflowgpu\\lib\\site-packages\\keras\\utils\\traceback_utils.py:70\u001b[0m, in \u001b[0;36mfilter_traceback.<locals>.error_handler\u001b[1;34m(*args, **kwargs)\u001b[0m\n\u001b[0;32m     67\u001b[0m     filtered_tb \u001b[38;5;241m=\u001b[39m _process_traceback_frames(e\u001b[38;5;241m.\u001b[39m__traceback__)\n\u001b[0;32m     68\u001b[0m     \u001b[38;5;66;03m# To get the full stack trace, call:\u001b[39;00m\n\u001b[0;32m     69\u001b[0m     \u001b[38;5;66;03m# `tf.debugging.disable_traceback_filtering()`\u001b[39;00m\n\u001b[1;32m---> 70\u001b[0m     \u001b[38;5;28;01mraise\u001b[39;00m e\u001b[38;5;241m.\u001b[39mwith_traceback(filtered_tb) \u001b[38;5;28;01mfrom\u001b[39;00m \u001b[38;5;28;01mNone\u001b[39;00m\n\u001b[0;32m     71\u001b[0m \u001b[38;5;28;01mfinally\u001b[39;00m:\n\u001b[0;32m     72\u001b[0m     \u001b[38;5;28;01mdel\u001b[39;00m filtered_tb\n",
      "File \u001b[1;32mc:\\Users\\IU\\anaconda3\\envs\\tensorflowgpu\\lib\\site-packages\\tensorflow\\python\\eager\\execute.py:54\u001b[0m, in \u001b[0;36mquick_execute\u001b[1;34m(op_name, num_outputs, inputs, attrs, ctx, name)\u001b[0m\n\u001b[0;32m     52\u001b[0m \u001b[38;5;28;01mtry\u001b[39;00m:\n\u001b[0;32m     53\u001b[0m   ctx\u001b[38;5;241m.\u001b[39mensure_initialized()\n\u001b[1;32m---> 54\u001b[0m   tensors \u001b[38;5;241m=\u001b[39m pywrap_tfe\u001b[38;5;241m.\u001b[39mTFE_Py_Execute(ctx\u001b[38;5;241m.\u001b[39m_handle, device_name, op_name,\n\u001b[0;32m     55\u001b[0m                                       inputs, attrs, num_outputs)\n\u001b[0;32m     56\u001b[0m \u001b[38;5;28;01mexcept\u001b[39;00m core\u001b[38;5;241m.\u001b[39m_NotOkStatusException \u001b[38;5;28;01mas\u001b[39;00m e:\n\u001b[0;32m     57\u001b[0m   \u001b[38;5;28;01mif\u001b[39;00m name \u001b[38;5;129;01mis\u001b[39;00m \u001b[38;5;129;01mnot\u001b[39;00m \u001b[38;5;28;01mNone\u001b[39;00m:\n",
      "\u001b[1;31mInvalidArgumentError\u001b[0m: Graph execution error:\n\nDetected at node 'sequential/lstm/transpose' defined at (most recent call last):\n    File \"c:\\Users\\IU\\anaconda3\\envs\\tensorflowgpu\\lib\\runpy.py\", line 196, in _run_module_as_main\n      return _run_code(code, main_globals, None,\n    File \"c:\\Users\\IU\\anaconda3\\envs\\tensorflowgpu\\lib\\runpy.py\", line 86, in _run_code\n      exec(code, run_globals)\n    File \"c:\\Users\\IU\\anaconda3\\envs\\tensorflowgpu\\lib\\site-packages\\ipykernel_launcher.py\", line 17, in <module>\n      app.launch_new_instance()\n    File \"c:\\Users\\IU\\anaconda3\\envs\\tensorflowgpu\\lib\\site-packages\\traitlets\\config\\application.py\", line 1053, in launch_instance\n      app.start()\n    File \"c:\\Users\\IU\\anaconda3\\envs\\tensorflowgpu\\lib\\site-packages\\ipykernel\\kernelapp.py\", line 737, in start\n      self.io_loop.start()\n    File \"c:\\Users\\IU\\anaconda3\\envs\\tensorflowgpu\\lib\\site-packages\\tornado\\platform\\asyncio.py\", line 215, in start\n      self.asyncio_loop.run_forever()\n    File \"c:\\Users\\IU\\anaconda3\\envs\\tensorflowgpu\\lib\\asyncio\\base_events.py\", line 603, in run_forever\n      self._run_once()\n    File \"c:\\Users\\IU\\anaconda3\\envs\\tensorflowgpu\\lib\\asyncio\\base_events.py\", line 1909, in _run_once\n      handle._run()\n    File \"c:\\Users\\IU\\anaconda3\\envs\\tensorflowgpu\\lib\\asyncio\\events.py\", line 80, in _run\n      self._context.run(self._callback, *self._args)\n    File \"c:\\Users\\IU\\anaconda3\\envs\\tensorflowgpu\\lib\\site-packages\\ipykernel\\kernelbase.py\", line 524, in dispatch_queue\n      await self.process_one()\n    File \"c:\\Users\\IU\\anaconda3\\envs\\tensorflowgpu\\lib\\site-packages\\ipykernel\\kernelbase.py\", line 513, in process_one\n      await dispatch(*args)\n    File \"c:\\Users\\IU\\anaconda3\\envs\\tensorflowgpu\\lib\\site-packages\\ipykernel\\kernelbase.py\", line 418, in dispatch_shell\n      await result\n    File \"c:\\Users\\IU\\anaconda3\\envs\\tensorflowgpu\\lib\\site-packages\\ipykernel\\kernelbase.py\", line 758, in execute_request\n      reply_content = await reply_content\n    File \"c:\\Users\\IU\\anaconda3\\envs\\tensorflowgpu\\lib\\site-packages\\ipykernel\\ipkernel.py\", line 426, in do_execute\n      res = shell.run_cell(\n    File \"c:\\Users\\IU\\anaconda3\\envs\\tensorflowgpu\\lib\\site-packages\\ipykernel\\zmqshell.py\", line 549, in run_cell\n      return super().run_cell(*args, **kwargs)\n    File \"c:\\Users\\IU\\anaconda3\\envs\\tensorflowgpu\\lib\\site-packages\\IPython\\core\\interactiveshell.py\", line 3046, in run_cell\n      result = self._run_cell(\n    File \"c:\\Users\\IU\\anaconda3\\envs\\tensorflowgpu\\lib\\site-packages\\IPython\\core\\interactiveshell.py\", line 3101, in _run_cell\n      result = runner(coro)\n    File \"c:\\Users\\IU\\anaconda3\\envs\\tensorflowgpu\\lib\\site-packages\\IPython\\core\\async_helpers.py\", line 129, in _pseudo_sync_runner\n      coro.send(None)\n    File \"c:\\Users\\IU\\anaconda3\\envs\\tensorflowgpu\\lib\\site-packages\\IPython\\core\\interactiveshell.py\", line 3306, in run_cell_async\n      has_raised = await self.run_ast_nodes(code_ast.body, cell_name,\n    File \"c:\\Users\\IU\\anaconda3\\envs\\tensorflowgpu\\lib\\site-packages\\IPython\\core\\interactiveshell.py\", line 3488, in run_ast_nodes\n      if await self.run_code(code, result, async_=asy):\n    File \"c:\\Users\\IU\\anaconda3\\envs\\tensorflowgpu\\lib\\site-packages\\IPython\\core\\interactiveshell.py\", line 3548, in run_code\n      exec(code_obj, self.user_global_ns, self.user_ns)\n    File \"C:\\Users\\IU\\AppData\\Local\\Temp\\ipykernel_8236\\3615335812.py\", line 2, in <module>\n      loss, accuracy = model.evaluate(X_test_scaled, y_test)\n    File \"c:\\Users\\IU\\anaconda3\\envs\\tensorflowgpu\\lib\\site-packages\\keras\\utils\\traceback_utils.py\", line 65, in error_handler\n      return fn(*args, **kwargs)\n    File \"c:\\Users\\IU\\anaconda3\\envs\\tensorflowgpu\\lib\\site-packages\\keras\\engine\\training.py\", line 1947, in evaluate\n      tmp_logs = self.test_function(iterator)\n    File \"c:\\Users\\IU\\anaconda3\\envs\\tensorflowgpu\\lib\\site-packages\\keras\\engine\\training.py\", line 1727, in test_function\n      return step_function(self, iterator)\n    File \"c:\\Users\\IU\\anaconda3\\envs\\tensorflowgpu\\lib\\site-packages\\keras\\engine\\training.py\", line 1713, in step_function\n      outputs = model.distribute_strategy.run(run_step, args=(data,))\n    File \"c:\\Users\\IU\\anaconda3\\envs\\tensorflowgpu\\lib\\site-packages\\keras\\engine\\training.py\", line 1701, in run_step\n      outputs = model.test_step(data)\n    File \"c:\\Users\\IU\\anaconda3\\envs\\tensorflowgpu\\lib\\site-packages\\keras\\engine\\training.py\", line 1665, in test_step\n      y_pred = self(x, training=False)\n    File \"c:\\Users\\IU\\anaconda3\\envs\\tensorflowgpu\\lib\\site-packages\\keras\\utils\\traceback_utils.py\", line 65, in error_handler\n      return fn(*args, **kwargs)\n    File \"c:\\Users\\IU\\anaconda3\\envs\\tensorflowgpu\\lib\\site-packages\\keras\\engine\\training.py\", line 557, in __call__\n      return super().__call__(*args, **kwargs)\n    File \"c:\\Users\\IU\\anaconda3\\envs\\tensorflowgpu\\lib\\site-packages\\keras\\utils\\traceback_utils.py\", line 65, in error_handler\n      return fn(*args, **kwargs)\n    File \"c:\\Users\\IU\\anaconda3\\envs\\tensorflowgpu\\lib\\site-packages\\keras\\engine\\base_layer.py\", line 1097, in __call__\n      outputs = call_fn(inputs, *args, **kwargs)\n    File \"c:\\Users\\IU\\anaconda3\\envs\\tensorflowgpu\\lib\\site-packages\\keras\\utils\\traceback_utils.py\", line 96, in error_handler\n      return fn(*args, **kwargs)\n    File \"c:\\Users\\IU\\anaconda3\\envs\\tensorflowgpu\\lib\\site-packages\\keras\\engine\\sequential.py\", line 410, in call\n      return super().call(inputs, training=training, mask=mask)\n    File \"c:\\Users\\IU\\anaconda3\\envs\\tensorflowgpu\\lib\\site-packages\\keras\\engine\\functional.py\", line 510, in call\n      return self._run_internal_graph(inputs, training=training, mask=mask)\n    File \"c:\\Users\\IU\\anaconda3\\envs\\tensorflowgpu\\lib\\site-packages\\keras\\engine\\functional.py\", line 667, in _run_internal_graph\n      outputs = node.layer(*args, **kwargs)\n    File \"c:\\Users\\IU\\anaconda3\\envs\\tensorflowgpu\\lib\\site-packages\\keras\\layers\\rnn\\base_rnn.py\", line 553, in __call__\n      return super().__call__(inputs, **kwargs)\n    File \"c:\\Users\\IU\\anaconda3\\envs\\tensorflowgpu\\lib\\site-packages\\keras\\utils\\traceback_utils.py\", line 65, in error_handler\n      return fn(*args, **kwargs)\n    File \"c:\\Users\\IU\\anaconda3\\envs\\tensorflowgpu\\lib\\site-packages\\keras\\engine\\base_layer.py\", line 1097, in __call__\n      outputs = call_fn(inputs, *args, **kwargs)\n    File \"c:\\Users\\IU\\anaconda3\\envs\\tensorflowgpu\\lib\\site-packages\\keras\\utils\\traceback_utils.py\", line 96, in error_handler\n      return fn(*args, **kwargs)\n    File \"c:\\Users\\IU\\anaconda3\\envs\\tensorflowgpu\\lib\\site-packages\\keras\\layers\\rnn\\lstm.py\", line 625, in call\n      last_output, outputs, states = backend.rnn(\n    File \"c:\\Users\\IU\\anaconda3\\envs\\tensorflowgpu\\lib\\site-packages\\keras\\backend.py\", line 4783, in rnn\n      inputs = tf.nest.map_structure(swap_batch_timestep, inputs)\n    File \"c:\\Users\\IU\\anaconda3\\envs\\tensorflowgpu\\lib\\site-packages\\keras\\backend.py\", line 4780, in swap_batch_timestep\n      return tf.compat.v1.transpose(input_t, axes)\nNode: 'sequential/lstm/transpose'\nDetected at node 'sequential/lstm/transpose' defined at (most recent call last):\n    File \"c:\\Users\\IU\\anaconda3\\envs\\tensorflowgpu\\lib\\runpy.py\", line 196, in _run_module_as_main\n      return _run_code(code, main_globals, None,\n    File \"c:\\Users\\IU\\anaconda3\\envs\\tensorflowgpu\\lib\\runpy.py\", line 86, in _run_code\n      exec(code, run_globals)\n    File \"c:\\Users\\IU\\anaconda3\\envs\\tensorflowgpu\\lib\\site-packages\\ipykernel_launcher.py\", line 17, in <module>\n      app.launch_new_instance()\n    File \"c:\\Users\\IU\\anaconda3\\envs\\tensorflowgpu\\lib\\site-packages\\traitlets\\config\\application.py\", line 1053, in launch_instance\n      app.start()\n    File \"c:\\Users\\IU\\anaconda3\\envs\\tensorflowgpu\\lib\\site-packages\\ipykernel\\kernelapp.py\", line 737, in start\n      self.io_loop.start()\n    File \"c:\\Users\\IU\\anaconda3\\envs\\tensorflowgpu\\lib\\site-packages\\tornado\\platform\\asyncio.py\", line 215, in start\n      self.asyncio_loop.run_forever()\n    File \"c:\\Users\\IU\\anaconda3\\envs\\tensorflowgpu\\lib\\asyncio\\base_events.py\", line 603, in run_forever\n      self._run_once()\n    File \"c:\\Users\\IU\\anaconda3\\envs\\tensorflowgpu\\lib\\asyncio\\base_events.py\", line 1909, in _run_once\n      handle._run()\n    File \"c:\\Users\\IU\\anaconda3\\envs\\tensorflowgpu\\lib\\asyncio\\events.py\", line 80, in _run\n      self._context.run(self._callback, *self._args)\n    File \"c:\\Users\\IU\\anaconda3\\envs\\tensorflowgpu\\lib\\site-packages\\ipykernel\\kernelbase.py\", line 524, in dispatch_queue\n      await self.process_one()\n    File \"c:\\Users\\IU\\anaconda3\\envs\\tensorflowgpu\\lib\\site-packages\\ipykernel\\kernelbase.py\", line 513, in process_one\n      await dispatch(*args)\n    File \"c:\\Users\\IU\\anaconda3\\envs\\tensorflowgpu\\lib\\site-packages\\ipykernel\\kernelbase.py\", line 418, in dispatch_shell\n      await result\n    File \"c:\\Users\\IU\\anaconda3\\envs\\tensorflowgpu\\lib\\site-packages\\ipykernel\\kernelbase.py\", line 758, in execute_request\n      reply_content = await reply_content\n    File \"c:\\Users\\IU\\anaconda3\\envs\\tensorflowgpu\\lib\\site-packages\\ipykernel\\ipkernel.py\", line 426, in do_execute\n      res = shell.run_cell(\n    File \"c:\\Users\\IU\\anaconda3\\envs\\tensorflowgpu\\lib\\site-packages\\ipykernel\\zmqshell.py\", line 549, in run_cell\n      return super().run_cell(*args, **kwargs)\n    File \"c:\\Users\\IU\\anaconda3\\envs\\tensorflowgpu\\lib\\site-packages\\IPython\\core\\interactiveshell.py\", line 3046, in run_cell\n      result = self._run_cell(\n    File \"c:\\Users\\IU\\anaconda3\\envs\\tensorflowgpu\\lib\\site-packages\\IPython\\core\\interactiveshell.py\", line 3101, in _run_cell\n      result = runner(coro)\n    File \"c:\\Users\\IU\\anaconda3\\envs\\tensorflowgpu\\lib\\site-packages\\IPython\\core\\async_helpers.py\", line 129, in _pseudo_sync_runner\n      coro.send(None)\n    File \"c:\\Users\\IU\\anaconda3\\envs\\tensorflowgpu\\lib\\site-packages\\IPython\\core\\interactiveshell.py\", line 3306, in run_cell_async\n      has_raised = await self.run_ast_nodes(code_ast.body, cell_name,\n    File \"c:\\Users\\IU\\anaconda3\\envs\\tensorflowgpu\\lib\\site-packages\\IPython\\core\\interactiveshell.py\", line 3488, in run_ast_nodes\n      if await self.run_code(code, result, async_=asy):\n    File \"c:\\Users\\IU\\anaconda3\\envs\\tensorflowgpu\\lib\\site-packages\\IPython\\core\\interactiveshell.py\", line 3548, in run_code\n      exec(code_obj, self.user_global_ns, self.user_ns)\n    File \"C:\\Users\\IU\\AppData\\Local\\Temp\\ipykernel_8236\\3615335812.py\", line 2, in <module>\n      loss, accuracy = model.evaluate(X_test_scaled, y_test)\n    File \"c:\\Users\\IU\\anaconda3\\envs\\tensorflowgpu\\lib\\site-packages\\keras\\utils\\traceback_utils.py\", line 65, in error_handler\n      return fn(*args, **kwargs)\n    File \"c:\\Users\\IU\\anaconda3\\envs\\tensorflowgpu\\lib\\site-packages\\keras\\engine\\training.py\", line 1947, in evaluate\n      tmp_logs = self.test_function(iterator)\n    File \"c:\\Users\\IU\\anaconda3\\envs\\tensorflowgpu\\lib\\site-packages\\keras\\engine\\training.py\", line 1727, in test_function\n      return step_function(self, iterator)\n    File \"c:\\Users\\IU\\anaconda3\\envs\\tensorflowgpu\\lib\\site-packages\\keras\\engine\\training.py\", line 1713, in step_function\n      outputs = model.distribute_strategy.run(run_step, args=(data,))\n    File \"c:\\Users\\IU\\anaconda3\\envs\\tensorflowgpu\\lib\\site-packages\\keras\\engine\\training.py\", line 1701, in run_step\n      outputs = model.test_step(data)\n    File \"c:\\Users\\IU\\anaconda3\\envs\\tensorflowgpu\\lib\\site-packages\\keras\\engine\\training.py\", line 1665, in test_step\n      y_pred = self(x, training=False)\n    File \"c:\\Users\\IU\\anaconda3\\envs\\tensorflowgpu\\lib\\site-packages\\keras\\utils\\traceback_utils.py\", line 65, in error_handler\n      return fn(*args, **kwargs)\n    File \"c:\\Users\\IU\\anaconda3\\envs\\tensorflowgpu\\lib\\site-packages\\keras\\engine\\training.py\", line 557, in __call__\n      return super().__call__(*args, **kwargs)\n    File \"c:\\Users\\IU\\anaconda3\\envs\\tensorflowgpu\\lib\\site-packages\\keras\\utils\\traceback_utils.py\", line 65, in error_handler\n      return fn(*args, **kwargs)\n    File \"c:\\Users\\IU\\anaconda3\\envs\\tensorflowgpu\\lib\\site-packages\\keras\\engine\\base_layer.py\", line 1097, in __call__\n      outputs = call_fn(inputs, *args, **kwargs)\n    File \"c:\\Users\\IU\\anaconda3\\envs\\tensorflowgpu\\lib\\site-packages\\keras\\utils\\traceback_utils.py\", line 96, in error_handler\n      return fn(*args, **kwargs)\n    File \"c:\\Users\\IU\\anaconda3\\envs\\tensorflowgpu\\lib\\site-packages\\keras\\engine\\sequential.py\", line 410, in call\n      return super().call(inputs, training=training, mask=mask)\n    File \"c:\\Users\\IU\\anaconda3\\envs\\tensorflowgpu\\lib\\site-packages\\keras\\engine\\functional.py\", line 510, in call\n      return self._run_internal_graph(inputs, training=training, mask=mask)\n    File \"c:\\Users\\IU\\anaconda3\\envs\\tensorflowgpu\\lib\\site-packages\\keras\\engine\\functional.py\", line 667, in _run_internal_graph\n      outputs = node.layer(*args, **kwargs)\n    File \"c:\\Users\\IU\\anaconda3\\envs\\tensorflowgpu\\lib\\site-packages\\keras\\layers\\rnn\\base_rnn.py\", line 553, in __call__\n      return super().__call__(inputs, **kwargs)\n    File \"c:\\Users\\IU\\anaconda3\\envs\\tensorflowgpu\\lib\\site-packages\\keras\\utils\\traceback_utils.py\", line 65, in error_handler\n      return fn(*args, **kwargs)\n    File \"c:\\Users\\IU\\anaconda3\\envs\\tensorflowgpu\\lib\\site-packages\\keras\\engine\\base_layer.py\", line 1097, in __call__\n      outputs = call_fn(inputs, *args, **kwargs)\n    File \"c:\\Users\\IU\\anaconda3\\envs\\tensorflowgpu\\lib\\site-packages\\keras\\utils\\traceback_utils.py\", line 96, in error_handler\n      return fn(*args, **kwargs)\n    File \"c:\\Users\\IU\\anaconda3\\envs\\tensorflowgpu\\lib\\site-packages\\keras\\layers\\rnn\\lstm.py\", line 625, in call\n      last_output, outputs, states = backend.rnn(\n    File \"c:\\Users\\IU\\anaconda3\\envs\\tensorflowgpu\\lib\\site-packages\\keras\\backend.py\", line 4783, in rnn\n      inputs = tf.nest.map_structure(swap_batch_timestep, inputs)\n    File \"c:\\Users\\IU\\anaconda3\\envs\\tensorflowgpu\\lib\\site-packages\\keras\\backend.py\", line 4780, in swap_batch_timestep\n      return tf.compat.v1.transpose(input_t, axes)\nNode: 'sequential/lstm/transpose'\n2 root error(s) found.\n  (0) INVALID_ARGUMENT:  transpose expects a vector of size 2. But input(1) is a vector of size 3\n\t [[{{node sequential/lstm/transpose}}]]\n\t [[mean_squared_error/cond/then/_48/mean_squared_error/cond/cond/then/_111/mean_squared_error/cond/cond/remove_squeezable_dimensions/cond_1/pivot_f/_176/_63]]\n  (1) INVALID_ARGUMENT:  transpose expects a vector of size 2. But input(1) is a vector of size 3\n\t [[{{node sequential/lstm/transpose}}]]\n0 successful operations.\n0 derived errors ignored. [Op:__inference_test_function_18432]"
     ]
    }
   ],
   "source": [
    "# Evaluate the model on the test set\n",
    "loss, accuracy = model.evaluate(X_test_scaled, y_test)\n",
    "\n",
    "print(f'Test loss: {loss:.4f}')\n",
    "print(f'Test accuracy: {accuracy:.4f}')\n"
   ]
  },
  {
   "cell_type": "markdown",
   "metadata": {},
   "source": [
    "## Modelo secuelcial de 6 capas con regularización"
   ]
  },
  {
   "cell_type": "code",
   "execution_count": 7,
   "metadata": {},
   "outputs": [
    {
     "name": "stdout",
     "output_type": "stream",
     "text": [
      "Epoch 1/15\n",
      "114/114 [==============================] - 2s 9ms/step - loss: 15.0843 - val_loss: 3.3619\n",
      "Epoch 2/15\n",
      "114/114 [==============================] - 1s 6ms/step - loss: 5.8124 - val_loss: 3.2886\n",
      "Epoch 3/15\n",
      "114/114 [==============================] - 1s 5ms/step - loss: 5.1629 - val_loss: 3.2652\n",
      "Epoch 4/15\n",
      "114/114 [==============================] - 1s 5ms/step - loss: 4.7478 - val_loss: 3.2210\n",
      "Epoch 5/15\n",
      "114/114 [==============================] - 1s 5ms/step - loss: 4.4588 - val_loss: 3.3320\n",
      "Epoch 6/15\n",
      "114/114 [==============================] - 1s 6ms/step - loss: 4.2864 - val_loss: 3.2583\n",
      "Epoch 7/15\n",
      "114/114 [==============================] - 1s 6ms/step - loss: 4.1173 - val_loss: 3.4936\n",
      "Epoch 8/15\n",
      "114/114 [==============================] - 1s 7ms/step - loss: 3.9810 - val_loss: 3.4246\n",
      "Epoch 9/15\n",
      "114/114 [==============================] - 1s 8ms/step - loss: 3.7961 - val_loss: 3.7514\n",
      "Epoch 10/15\n",
      "114/114 [==============================] - 1s 6ms/step - loss: 3.7074 - val_loss: 3.6135\n",
      "Epoch 11/15\n",
      "114/114 [==============================] - 1s 6ms/step - loss: 3.6616 - val_loss: 3.4547\n",
      "Epoch 12/15\n",
      "114/114 [==============================] - 1s 5ms/step - loss: 3.6082 - val_loss: 4.1304\n",
      "Epoch 13/15\n",
      "114/114 [==============================] - 1s 7ms/step - loss: 3.5541 - val_loss: 4.3303\n",
      "Epoch 14/15\n",
      "114/114 [==============================] - 1s 6ms/step - loss: 3.4648 - val_loss: 4.4185\n",
      "Epoch 15/15\n",
      "114/114 [==============================] - 1s 6ms/step - loss: 3.4220 - val_loss: 4.8412\n",
      "983/983 [==============================] - 2s 2ms/step\n",
      "MAE en el conjunto de prueba: 1.2332082805540758\n"
     ]
    }
   ],
   "source": [
    "# Convertir a tensores de TensorFlow\n",
    "X_train_tensor = tf.constant(X_train_scaled, dtype=tf.float32)\n",
    "y_train_tensor = tf.constant(y_train.values, dtype=tf.float32)\n",
    "X_test_tensor = tf.constant(X_test_scaled, dtype=tf.float32)\n",
    "\n",
    "# Crear y entrenar un modelo de regresión lineal con TensorFlow GPU\n",
    "model = Sequential([\n",
    "    Dense(128, activation='relu', input_shape=(X_train.shape[1],)),\n",
    "    Dropout(0.5),  # Agregar Dropout para regularización\n",
    "    Dense(64, activation='relu'),\n",
    "    Dropout(0.5),  # Agregar Dropout para regularización\n",
    "    Dense(32, activation='relu'),\n",
    "    Dense(1)  # Capa de salida para regresión\n",
    "])\n",
    "model.compile(optimizer='adam', loss='mse')\n",
    "\n",
    "\n",
    "with tf.device('/device:GPU:0'):\n",
    "    # Entrenar el modelo\n",
    "    try:\n",
    "        model.load_weights('model_weights_6_layers.h5')\n",
    "        with open('history_R.pkl', 'rb') as file:\n",
    "            history = pickle.load(file)\n",
    "    except (OSError, FileNotFoundError):\n",
    "        # Si no se encuentran los archivos, entrena el modelo y guarda los pesos e historial\n",
    "        history = model.fit(X_train_tensor, y_train_tensor, epochs=15, batch_size=1000, validation_split=0.1, verbose=1)\n",
    "        model.save_weights('model_weights_R.h5')\n",
    "        with open('history_R.pkl', 'wb') as file:\n",
    "            pickle.dump(history.history if hasattr(history, 'history') else history, file)\n",
    "\n",
    "\n",
    "\n",
    "# Realizar predicciones en el conjunto de prueba\n",
    "y_pred = model.predict(X_test_tensor).flatten()\n",
    "\n",
    "# Calcular el error absoluto medio en las predicciones\n",
    "mae = mean_absolute_error(y_test, y_pred)\n",
    "print(f'MAE en el conjunto de prueba: {mae}')"
   ]
  },
  {
   "cell_type": "code",
   "execution_count": 8,
   "metadata": {},
   "outputs": [
    {
     "name": "stdout",
     "output_type": "stream",
     "text": [
      "Percentage Error on the test set: 30.02%\n"
     ]
    }
   ],
   "source": [
    "# Assuming y_test is the true target values in your regression problem\n",
    "\n",
    "# Calculate the percentage error\n",
    "percentage_error = (mae / np.mean(np.abs(y_test))) * 100\n",
    "\n",
    "print(f'Percentage Error on the test set: {percentage_error:.2f}%')"
   ]
  },
  {
   "cell_type": "code",
   "execution_count": 9,
   "metadata": {},
   "outputs": [
    {
     "data": {
      "image/png": "[encoded data removed]",
      "text/plain": [
       "<Figure size 640x480 with 1 Axes>"
      ]
     },
     "metadata": {},
     "output_type": "display_data"
    }
   ],
   "source": [
    "import matplotlib.pyplot as plt\n",
    "\n",
    "# Scatter plot of true vs predicted values\n",
    "plt.scatter(y_test, y_pred)\n",
    "plt.xlabel('True Values')\n",
    "plt.ylabel('Predictions')\n",
    "plt.title('True Values vs Predictions')\n",
    "plt.show()"
   ]
  },
  {
   "cell_type": "code",
   "execution_count": 10,
   "metadata": {},
   "outputs": [
    {
     "name": "stdout",
     "output_type": "stream",
     "text": [
      "R-squared on the test set: 0.7976\n"
     ]
    }
   ],
   "source": [
    "from sklearn.metrics import r2_score\n",
    "\n",
    "# Calculate R-squared\n",
    "r_squared = r2_score(y_test, y_pred)\n",
    "print(f'R-squared on the test set: {r_squared:.4f}')\n"
   ]
  },
  {
   "cell_type": "markdown",
   "metadata": {},
   "source": [
    "## XGBOOST"
   ]
  },
  {
   "cell_type": "code",
   "execution_count": 14,
   "metadata": {},
   "outputs": [
    {
     "name": "stderr",
     "output_type": "stream",
     "text": [
      "is_sparse is deprecated and will be removed in a future version. Check `isinstance(dtype, pd.SparseDtype)` instead.\n"
     ]
    },
    {
     "data": {
      "text/plain": [
       "['xgboost_model.joblib']"
      ]
     },
     "execution_count": 14,
     "metadata": {},
     "output_type": "execute_result"
    }
   ],
   "source": [
    "# Initial parameters\n",
    "xgb_params = {\n",
    "    'tree_method': 'gpu_hist',          # Use of a GPU to accelerate the process\n",
    "    'gpu_id': 0,                        # GPU ID\n",
    "    'objective': 'reg:squarederror',    # Indicates a Regression problem\n",
    "    'min_child_weight': 0.1,            # Minimum weight required in a leaf node of the tree\n",
    "    'learning_rate': 0.05,              # Moderate learning rate\n",
    "    'n_estimators': 10000,              # Initial number of trees\n",
    "    'max_depth': 100,                   # Maximum depth of the trees\n",
    "    'subsample': 0.9,                   # Use 90% of the samples to fit each tree\n",
    "    'colsample_bytree': 0.1,            # Use 10% of the columns to fit each tree\n",
    "    'gamma': 0.1,                       # Moderated regularization\n",
    "    'random_state': 42,                 # Random seed for reproducibility\n",
    "    'reg_alpha': 0.1,\n",
    "    'reg_lambda': 0.1\n",
    "}\n",
    "\n",
    "xgb_model = xgb.XGBRegressor(**xgb_params)\n",
    "xgb_model.fit(X_train_scaled, y_train)\n",
    "\n",
    "# Save model\n",
    "model_filename = 'xgboost_model.joblib'\n",
    "joblib.dump(xgb_model, model_filename)\n"
   ]
  },
  {
   "cell_type": "code",
   "execution_count": 15,
   "metadata": {},
   "outputs": [
    {
     "data": {
      "image/png": "[encoded data removed]",
      "text/plain": [
       "<Figure size 800x470 with 2 Axes>"
      ]
     },
     "metadata": {},
     "output_type": "display_data"
    }
   ],
   "source": [
    "# Using SHAP values for Explainability\n",
    "explainer = shap.Explainer(xgb_model)\n",
    "\n",
    "# Getting SHAP values\n",
    "shap_values = explainer.shap_values(X_test_scaled)\n",
    "\n",
    "# Waterfall graph\n",
    "sample_ind = 0\n",
    "shap.summary_plot(shap_values, X_test_scaled, feature_names=features, show=False)\n",
    "plt.show()"
   ]
  },
  {
   "cell_type": "code",
   "execution_count": 36,
   "metadata": {},
   "outputs": [
    {
     "name": "stdout",
     "output_type": "stream",
     "text": [
      "Prediction for the input parameters: 1.7369762659072876\n"
     ]
    },
    {
     "name": "stderr",
     "output_type": "stream",
     "text": [
      "X does not have valid feature names, but StandardScaler was fitted with feature names\n"
     ]
    }
   ],
   "source": [
    "# Load the saved model\n",
    "loaded_model = joblib.load(model_filename)\n",
    "\n",
    "# Define the input parameters for prediction\n",
    "#features = ['nivel_trafico', 'clima', 'accidente', 'es_hora_punta', 'dia_del_ano', 'distancia', 'es_festivo', 'dia_semana']\n",
    "sample_input_params = np.array([[1, 0, 0,False,100,200,False,3]])\n",
    "\n",
    "# Scale the input parameters if needed (use the same scaler you used for training)\n",
    "scaled_sample_input_params = scaler.transform(sample_input_params)\n",
    "\n",
    "# Make a prediction\n",
    "prediction = loaded_model.predict(sample_input_params)\n",
    "\n",
    "# Print the prediction\n",
    "print(f'Prediction for the input parameters: {prediction[0]}')"
   ]
  },
  {
   "cell_type": "code",
   "execution_count": 37,
   "metadata": {},
   "outputs": [
    {
     "data": {
      "image/png": "[encoded data removed]",
      "text/plain": [
       "<Figure size 640x480 with 1 Axes>"
      ]
     },
     "metadata": {},
     "output_type": "display_data"
    }
   ],
   "source": [
    "# Get feature importances\n",
    "feature_importances = loaded_model.feature_importances_\n",
    "\n",
    "# Visualize feature importances\n",
    "import matplotlib.pyplot as plt\n",
    "import seaborn as sns\n",
    "\n",
    "sns.barplot(x=feature_importances, y=X.columns)\n",
    "plt.show()"
   ]
  },
  {
   "cell_type": "markdown",
   "metadata": {},
   "source": [
    "### Learning curve"
   ]
  },
  {
   "cell_type": "code",
   "execution_count": null,
   "metadata": {},
   "outputs": [],
   "source": [
    "import numpy as np\n",
    "import matplotlib.pyplot as plt\n",
    "from sklearn.model_selection import learning_curve\n",
    "\n",
    "# Suponiendo que tienes X_train_scaled e y_train ya definidos\n",
    "\n",
    "# Función para graficar la curva de aprendizaje\n",
    "def plot_learning_curve(estimator, title, X, y, ylim=None, cv=None,\n",
    "                        n_jobs=-1, train_sizes=np.linspace(.1, 1.0, 5)):\n",
    "    plt.figure()\n",
    "    plt.title(title)\n",
    "    if ylim is not None:\n",
    "        plt.ylim(*ylim)\n",
    "    plt.xlabel(\"Training examples\")\n",
    "    plt.ylabel(\"Mean Squared Error\")\n",
    "    train_sizes, train_scores, test_scores = learning_curve(\n",
    "        estimator, X, y, cv=cv, n_jobs=n_jobs, train_sizes=train_sizes, scoring='neg_mean_squared_error')\n",
    "    train_scores_mean = np.mean(train_scores, axis=1)\n",
    "    train_scores_std = np.std(train_scores, axis=1)\n",
    "    test_scores_mean = np.mean(test_scores, axis=1)\n",
    "    test_scores_std = np.std(test_scores, axis=1)\n",
    "    plt.grid()\n",
    "\n",
    "    plt.fill_between(train_sizes, train_scores_mean - train_scores_std,\n",
    "                     train_scores_mean + train_scores_std, alpha=0.1,\n",
    "                     color=\"r\")\n",
    "    plt.fill_between(train_sizes, test_scores_mean - test_scores_std,\n",
    "                     test_scores_mean + test_scores_std, alpha=0.1, color=\"g\")\n",
    "    plt.plot(train_sizes, train_scores_mean, 'o-', color=\"r\",\n",
    "             label=\"Training score\")\n",
    "    plt.plot(train_sizes, test_scores_mean, 'o-', color=\"g\",\n",
    "             label=\"Cross-validation score\")\n",
    "\n",
    "    plt.legend(loc=\"best\")\n",
    "    return plt\n",
    "\n",
    "# Graficar la curva de aprendizaje\n",
    "title = \"Learning Curves (XGBoost)\"\n",
    "cv = 5  # Número de folds para validación cruzada\n",
    "plot_learning_curve(xgb_model, title, X_train_scaled[::30000], y_train[::30000], ylim=(0, 1.01), cv=cv, n_jobs=-1)\n",
    "\n",
    "plt.show()\n"
   ]
  },
  {
   "cell_type": "markdown",
   "metadata": {},
   "source": [
    "### Metrics"
   ]
  },
  {
   "cell_type": "code",
   "execution_count": 35,
   "metadata": {},
   "outputs": [
    {
     "name": "stdout",
     "output_type": "stream",
     "text": [
      "Mean Absolute Error: 0.9966389338812308\n",
      "Mean Squared Error: 2.473548011705149\n",
      "R-squared: 0.9005591535985401\n",
      "Accuracy: 0.5768020094750564\n"
     ]
    }
   ],
   "source": [
    "from sklearn.metrics import mean_absolute_error,mean_squared_error,r2_score,accuracy_score, confusion_matrix,classification_report\n",
    "y_pred = xgb_model.predict(X_test_scaled)\n",
    "mae = mean_absolute_error(y_test, y_pred)\n",
    "print(f'Mean Absolute Error: {mae}')\n",
    "\n",
    "mse = mean_squared_error(y_test, y_pred)\n",
    "print(f'Mean Squared Error: {mse}')\n",
    "\n",
    "r2 = r2_score(y_test, y_pred)\n",
    "print(f'R-squared: {r2}')"
   ]
  },
  {
   "cell_type": "markdown",
   "metadata": {},
   "source": [
    "    Un MAE de aproximadamente 0.9966 indica un buen rendimiento, especialmente si los retrasos son típicamente bajos (1 a 10 minutos).\n",
    "    \n",
    "    Un MSE de 2.4735 muestra una varianza más alta en los errores, pero teniendo en cuenta que los datos se han generado de forma aleatoria, teniendo casos donde despunta el retraso, se puede decir que el resultado es es esperado\n",
    "\n",
    "    Un R^2 de 0.9006 sugiere un buen ajuste del modelo a los datos, explicando una gran parte de la variabilidad en los retrasos."
   ]
  },
  {
   "cell_type": "code",
   "execution_count": null,
   "metadata": {},
   "outputs": [],
   "source": [
    "# Visualizar cómo se comporta cada característica en el proceso de decisión\n",
    "for feature in features:\n",
    "    plt.figure(figsize=(8, 4))\n",
    "    plt.scatter(X_test[feature], y_test, label='Real', alpha=0.5)\n",
    "    plt.scatter(X_test[feature], y_pred, label='Predicción', alpha=0.5)\n",
    "    plt.title(f'{feature} vs. Retraso')\n",
    "    plt.xlabel(feature)\n",
    "    plt.ylabel('Retraso')\n",
    "    plt.legend()\n",
    "    plt.show()"
   ]
  }
 ],
 "metadata": {
  "kernelspec": {
   "display_name": "tensorflowgpu",
   "language": "python",
   "name": "python3"
  },
  "language_info": {
   "codemirror_mode": {
    "name": "ipython",
    "version": 3
   },
   "file_extension": ".py",
   "mimetype": "text/x-python",
   "name": "python",
   "nbconvert_exporter": "python",
   "pygments_lexer": "ipython3",
   "version": "3.10.13"
  }
 },
 "nbformat": 4,
 "nbformat_minor": 2
}
